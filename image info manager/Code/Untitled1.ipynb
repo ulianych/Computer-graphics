{
 "cells": [
  {
   "cell_type": "code",
   "execution_count": 11,
   "id": "1f462627-bc6b-4557-9bec-3eb6c7ca84cf",
   "metadata": {
    "tags": []
   },
   "outputs": [],
   "source": [
    "img = cv2.imread('Pictures/Saved Pictures/937881.jpg')"
   ]
  },
  {
   "cell_type": "code",
   "execution_count": 13,
   "id": "0bf602c4-9bb3-4de9-9798-e067f6dfb16a",
   "metadata": {
    "tags": []
   },
   "outputs": [
    {
     "data": {
      "text/plain": [
       "(2160, 3840, 3)"
      ]
     },
     "execution_count": 13,
     "metadata": {},
     "output_type": "execute_result"
    }
   ],
   "source": [
    "img.shape"
   ]
  },
  {
   "cell_type": "code",
   "execution_count": 15,
   "id": "2042f91f-b605-4e18-a400-8420e98372f4",
   "metadata": {
    "tags": []
   },
   "outputs": [
    {
     "data": {
      "text/plain": [
       "1"
      ]
     },
     "execution_count": 15,
     "metadata": {},
     "output_type": "execute_result"
    }
   ],
   "source": [
    "img.itemsize"
   ]
  },
  {
   "cell_type": "code",
   "execution_count": 3,
   "id": "7d424e08-91f0-4155-8bf4-905c96eb8d22",
   "metadata": {},
   "outputs": [],
   "source": [
    "from tkinter import *\n",
    "from tkinter import ttk\n",
    "from tkinter import filedialog\n",
    "import os\n",
    "from PIL import Image\n",
    "\n",
    "selected_image_path = \"\"\n",
    "diag = 15\n",
    "\n",
    "def get_folder():\n",
    "    filepath = filedialog.askdirectory()\n",
    "    folder_path.delete(0, END)\n",
    "    folder_path.insert(INSERT, filepath)\n",
    "    tree.delete(*tree.get_children())\n",
    "    scan(filepath)\n",
    "\n",
    "def image_info(image_path):\n",
    "    img = Image.open(image_path)\n",
    "    name = os.path.basename(image_path)\n",
    "    width, height = img.size\n",
    "    resolution = (width**2 + height**2)**(1/2) / diag\n",
    "    depth = img.mode\n",
    "    compression = img.info.get(\"compression\", \"N/A\")\n",
    "    entropy = '%.3f'%img.entropy()\n",
    "\n",
    "    return name, str(width) + 'x' + str(height), resolution, depth, compression, entropy   \n",
    "\n",
    "def scan(folder_path):\n",
    "    for root, dirs, files in os.walk(folder_path):\n",
    "        for file in files:\n",
    "            if file.endswith(('.jpg', '.gif', '.tif', '.bmp', '.png', '.pcx')):\n",
    "                tree.insert(\"\", END, values=image_info(os.path.join(root, file)))\n",
    "\n",
    "def show_image(event):\n",
    "    global selected_image_path\n",
    "    selected_item = tree.item(tree.selection())\n",
    "    image_name = selected_item['values'][0]\n",
    "    selected_image_path = os.path.join(folder_path.get(), image_name)\n",
    "    img = Image.open(selected_image_path)\n",
    "    img.show()\n",
    "    \n",
    "    \n",
    "root = Tk()\n",
    "root.iconbitmap(default=\"icon.ico\")\n",
    "root.title(\"Image Info\")\n",
    "root.geometry('600x650')\n",
    "root.configure(bg='#FF69B4')\n",
    "\n",
    "folder_path = Entry(root, width=50, bg='lightblue', font=('Arial', 12, 'bold'), foreground='#FF69B4')\n",
    "folder_path.grid(row=0, column=0, padx=20, pady=20, sticky=(W, E))\n",
    "btn_folder_path = Button(root, text=\"Choose Folder\", command=get_folder, width=20, bg='lightblue', font=('Arial', 12, 'bold'), foreground='#FF69B4')\n",
    "btn_folder_path.grid(row=0, column=1, padx=20, pady=20, sticky=(W, E))\n",
    "\n",
    "columns = ('Name', 'Size', 'Dots/Inch', 'Color Depth', 'Compression', \"Entropy\")\n",
    "tree = ttk.Treeview(root, columns=columns, show=\"headings\")\n",
    "tree.grid(row=1, columnspan=2, sticky=(N, S, W, E))\n",
    "\n",
    "style = ttk.Style()\n",
    "style.theme_use(\"default\")\n",
    "style.configure(\"Treeview\", font=('Arial', 12), rowheight=25, background='lightblue', foreground='#FF69B4')\n",
    "style.configure(\"Treeview.Heading\", font=('Arial', 12, 'bold'), background='lightblue', foreground='#FF69B4')\n",
    "\n",
    "tree.heading(\"Name\", text=\"Name\")\n",
    "tree.heading(\"Size\", text=\"Size\")\n",
    "tree.heading(\"Dots/Inch\", text=\"Dots/Inch\")\n",
    "tree.heading(\"Color Depth\", text=\"Color Depth\")\n",
    "tree.heading(\"Compression\", text=\"Compression\")\n",
    "tree.heading(\"Entropy\", text=\"Entropy\")\n",
    "\n",
    "tree.column(\"#1\", stretch=YES, width=100)\n",
    "tree.column(\"#2\", stretch=YES, width=100)\n",
    "tree.column(\"#3\", stretch=YES, width=100)\n",
    "tree.column(\"#4\", stretch=YES, width=100)\n",
    "tree.column(\"#5\", stretch=YES, width=100)\n",
    "tree.column(\"#6\", stretch=YES, width=100)\n",
    "\n",
    "scrollbar = ttk.Scrollbar(root, orient=VERTICAL, command=tree.yview)\n",
    "tree.configure(yscroll=scrollbar.set)\n",
    "scrollbar.grid(row=1, column=2, sticky=(N, S, W, E))\n",
    "\n",
    "tree.bind(\"<<TreeviewSelect>>\", show_image)\n",
    "\n",
    "root.grid_rowconfigure(1, weight=1)\n",
    "root.grid_columnconfigure(0, weight=1)\n",
    "root.grid_columnconfigure(1, weight=1)\n",
    "\n",
    "root.mainloop()"
   ]
  },
  {
   "cell_type": "code",
   "execution_count": null,
   "id": "020894ed-928e-4b87-b3bd-59472a5159d8",
   "metadata": {},
   "outputs": [],
   "source": []
  }
 ],
 "metadata": {
  "kernelspec": {
   "display_name": "Python 3 (ipykernel)",
   "language": "python",
   "name": "python3"
  },
  "language_info": {
   "codemirror_mode": {
    "name": "ipython",
    "version": 3
   },
   "file_extension": ".py",
   "mimetype": "text/x-python",
   "name": "python",
   "nbconvert_exporter": "python",
   "pygments_lexer": "ipython3",
   "version": "3.11.4"
  }
 },
 "nbformat": 4,
 "nbformat_minor": 5
}
