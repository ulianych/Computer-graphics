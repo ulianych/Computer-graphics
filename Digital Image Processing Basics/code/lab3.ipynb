{
 "cells": [
  {
   "cell_type": "code",
   "execution_count": 1,
   "id": "aad9ab50-0d6e-48de-905f-5f5cf76710f6",
   "metadata": {
    "tags": []
   },
   "outputs": [],
   "source": [
    "import cv2\n",
    "from PIL import Image as Img\n",
    "from PIL import ImageTk as ImgTk\n",
    "import numpy as np\n",
    "from tkinter import *\n",
    "from tkinter import ttk\n",
    "from tkinter import filedialog"
   ]
  },
  {
   "cell_type": "code",
   "execution_count": 2,
   "id": "9913aebb-564b-4140-a58d-719140f5ccb5",
   "metadata": {
    "tags": []
   },
   "outputs": [],
   "source": [
    "def sharpness(img):\n",
    "    kernel = np.array([[-1,-1,-1], [-1,9,-1], [-1,-1,-1]])\n",
    "    img = cv2.filter2D(img, -1, kernel)\n",
    "    return img\n",
    "\n",
    "def global_thresholding_Otsu(img):\n",
    "    blur = cv2.GaussianBlur(img,(5,5),0)\n",
    "    \n",
    "    # find normalized_histogram, and its cumulative distribution function\n",
    "    hist = cv2.calcHist([blur],[0],None,[256],[0,256])\n",
    "    hist_norm = hist.ravel()/hist.sum()\n",
    "    Q = hist_norm.cumsum()\n",
    "    \n",
    "    bins = np.arange(256)\n",
    "    \n",
    "    fn_min = np.inf\n",
    "    thresh = -1\n",
    "    \n",
    "    for i in range(1,256):\n",
    "        p1,p2 = np.hsplit(hist_norm,[i]) # probabilities\n",
    "        q1,q2 = Q[i],Q[255]-Q[i] # cum sum of classes\n",
    "        if q1 < 1.e-6 or q2 < 1.e-6:\n",
    "            continue\n",
    "        b1,b2 = np.hsplit(bins,[i]) # weights\n",
    "        # finding means and variances\n",
    "        m1,m2 = np.sum(p1*b1)/q1, np.sum(p2*b2)/q2\n",
    "        v1,v2 = np.sum(((b1-m1)**2)*p1)/q1,np.sum(((b2-m2)**2)*p2)/q2\n",
    "        # calculates the minimization function\n",
    "        fn = v1*q1 + v2*q2\n",
    "        if fn < fn_min:\n",
    "            fn_min = fn\n",
    "    thresh = i\n",
    "    \n",
    "    return thresh"
   ]
  },
  {
   "cell_type": "code",
   "execution_count": 3,
   "id": "3a4ff919-b702-4f8b-82e4-03255f192c8d",
   "metadata": {
    "tags": []
   },
   "outputs": [],
   "source": [
    "def adaptive1(img):\n",
    "    mean_img = Img.fromarray(img).convert('L')\n",
    "    arr2 = cv2.adaptiveThreshold(np.array(mean_img), 255, cv2.ADAPTIVE_THRESH_MEAN_C, cv2.THRESH_BINARY, 5, 20)\n",
    "    return arr2.astype(np.uint8)"
   ]
  },
  {
   "cell_type": "code",
   "execution_count": 4,
   "id": "d50b0686-81c1-467d-8894-e27590c313e5",
   "metadata": {
    "tags": []
   },
   "outputs": [],
   "source": [
    "def adaptive2(img):\n",
    "    mean_img = Img.fromarray(img).convert('L')\n",
    "    arr2 = cv2.adaptiveThreshold(np.array(mean_img), 255, cv2.ADAPTIVE_THRESH_GAUSSIAN_C, cv2.THRESH_BINARY, 5, 20)\n",
    "    return arr2.astype(np.uint8)"
   ]
  },
  {
   "cell_type": "code",
   "execution_count": 11,
   "id": "ad74f258-2ea6-4430-b6b7-4d280ed58d8a",
   "metadata": {
    "tags": []
   },
   "outputs": [],
   "source": [
    "def negative(img):\n",
    "    '''\n",
    "    for i in range(img.shape[0]):\n",
    "        for j in range(img.shape[1]):\n",
    "            img[i][j] = 255 - img[i][j]\n",
    "    '''\n",
    "    img = np.array(255-img)\n",
    "    return img"
   ]
  },
  {
   "cell_type": "code",
   "execution_count": 6,
   "id": "cb34fc9b-a797-459e-8a87-c83e06bff85c",
   "metadata": {
    "tags": []
   },
   "outputs": [],
   "source": [
    "img = cv2.imread(\"anime.jpg\", 0)\n",
    "\n",
    "sharped = sharpness(img)\n",
    "\n",
    "thresh = global_thresholding_Otsu(img)\n",
    "\n",
    "ret, thresh1 = cv2.threshold(img, 120, thresh, cv2.THRESH_BINARY) \n",
    "ret, thresh2 = cv2.threshold(img, 120, thresh, cv2.THRESH_TRUNC) \n",
    "\n",
    "cv2.imshow('1', img)\n",
    "cv2.imshow('2', negative(img))\n",
    "cv2.imshow('3', sharped) \n",
    "cv2.imshow('4', adaptive1(img))\n",
    "cv2.imshow('5', adaptive2(img))\n",
    "cv2.imshow('5', thresh1)\n",
    "cv2.imshow('6', thresh2)\n",
    "cv2.waitKey(0)\n",
    "cv2.destroyAllWindows()"
   ]
  },
  {
   "cell_type": "code",
   "execution_count": 12,
   "id": "6eb4660f-2c8d-4235-b1e9-9d1062724321",
   "metadata": {
    "tags": []
   },
   "outputs": [],
   "source": [
    "#img = cv2.imread(\"anime.jpg\", 0)\n",
    "\n",
    "def get_image():\n",
    "    global filepath\n",
    "    filepath = filedialog.askopenfilename()\n",
    "    file_path.delete(0, END)\n",
    "    file_path.insert(INSERT, filepath)   \n",
    "    if filepath is not None:\n",
    "        image = Img.open(filepath)\n",
    "        global photo\n",
    "        photo = ImgTk.PhotoImage(image.resize((500,500)))\n",
    "        image = canvas.create_image(0, 0, anchor='nw',image=photo)\n",
    "\n",
    "def apply_filter():\n",
    "    selected_filter = filter_listbox.get(filter_listbox.curselection())\n",
    "    if selected_filter == \"Original\":\n",
    "        image = canvas.create_image(0, 0, anchor='nw',image=photo)\n",
    "    else:\n",
    "        img = cv2.imread(filepath)\n",
    "        if selected_filter == \"Sharpening filter\":\n",
    "            sharpened_img = sharpness(img)\n",
    "            sharpened_image = Img.fromarray(sharpened_img)\n",
    "            global final1\n",
    "            final1 = ImgTk.PhotoImage(sharpened_image.resize((500,500)))\n",
    "            image = canvas.create_image(0, 0, anchor='nw',image=final1)\n",
    "        elif selected_filter == \"Global thresholding 1\":\n",
    "            ret, thresh1 = cv2.threshold(img, 120, global_thresholding_Otsu(img), cv2.THRESH_BINARY) \n",
    "            new_img = thresh1\n",
    "            new_image = Img.fromarray(new_img)\n",
    "            global final2\n",
    "            final2 = ImgTk.PhotoImage(new_image.resize((500,500)))\n",
    "            image = canvas.create_image(0, 0, anchor='nw',image=final2)\n",
    "        elif selected_filter == \"Global thresholding 2\":\n",
    "            ret, thresh1 = cv2.threshold(img, 120, global_thresholding_Otsu(img), cv2.THRESH_TRUNC) \n",
    "            new_img = thresh1\n",
    "            new_image = Img.fromarray(new_img)\n",
    "            global final3\n",
    "            final3 = ImgTk.PhotoImage(new_image.resize((500,500)))\n",
    "            image = canvas.create_image(0, 0, anchor='nw',image=final3)\n",
    "        elif selected_filter == \"Negative filter\":\n",
    "            sharpened_img = negative(img)\n",
    "            sharpened_image = Img.fromarray(sharpened_img)\n",
    "            global final4\n",
    "            final4 = ImgTk.PhotoImage(sharpened_image.resize((500,500)))\n",
    "            image = canvas.create_image(0, 0, anchor='nw',image=final4)\n",
    "        elif selected_filter == \"Adaptive thresholding 1\":\n",
    "            sharpened_img = adaptive1(img)\n",
    "            sharpened_image = Img.fromarray(sharpened_img)\n",
    "            global final5\n",
    "            final5 = ImgTk.PhotoImage(sharpened_image.resize((500,500)))\n",
    "            image = canvas.create_image(0, 0, anchor='nw',image=final5)\n",
    "        elif selected_filter == \"Adaptive thresholding 2\":\n",
    "            sharpened_img = adaptive2(img)\n",
    "            sharpened_image = Img.fromarray(sharpened_img)\n",
    "            global final6\n",
    "            final6 = ImgTk.PhotoImage(sharpened_image.resize((500,500)))\n",
    "            image = canvas.create_image(0, 0, anchor='nw',image=final6)\n",
    "\n",
    "root = Tk()\n",
    "root.title(\"похуй.\")\n",
    "root.geometry('800x600')\n",
    "root.configure(bg='#FF69B4')  # Розовый фон\n",
    "\n",
    "# Кнопка выбора папки\n",
    "btn_file_path = Button(root, text=\"Browse\", command=get_image, width=10, bg='#FF1493', font=('Arial', 12, 'bold'), foreground='#FFFFFF')  # Цвета Barbie\n",
    "btn_file_path.grid(row=0, column=0, padx=20, pady=20, sticky=(W, E))\n",
    "\n",
    "# Поле ввода папки\n",
    "file_path = Entry(root, width=70, bg='#FF1493', font=('Arial', 12, 'bold'), foreground='#FFFFFF')  # Белый текст и цвет фона как у кнопки\n",
    "file_path.grid(row=0, column=1, padx=20, pady=20, sticky=(W, E))\n",
    "file_path.insert(INSERT, \"Select an image...\")  # Добавлен текст-подсказка\n",
    "\n",
    "# Меню слева в голубом цвете\n",
    "menu_frame = Frame(root, bg='#00BFFF')\n",
    "menu_frame.grid(row=1, column=0, padx=20, pady=20, sticky=(N, S))\n",
    "\n",
    "# Список фильтров\n",
    "filter_listbox = Listbox(menu_frame, selectmode=SINGLE, font=('Arial', 10, 'bold'), foreground='#FFFFFF', bg='#00BFFF', selectbackground='#FF69B4', selectforeground='#FFFFFF')  # Голубой список\n",
    "filter_listbox.pack(padx=20)\n",
    "\n",
    "# Добавляем фильтры в список\n",
    "filters = [\"Original\", \"Sharpening filter\", \"Global thresholding 1\", \"Global thresholding 2\", \"Negative filter\", \"Adaptive thresholding 1\", \"Adaptive thresholding 2\"]\n",
    "for filter_name in filters:\n",
    "    filter_listbox.insert(END, filter_name)\n",
    "\n",
    "# Кнопка для применения фильтра\n",
    "apply_button = Button(menu_frame, text=\"Apply Filter\", command=apply_filter, width=15, bg='#FF1493', font=('Arial', 12, 'bold'), foreground='#FFFFFF')  # Розовая кнопка\n",
    "apply_button.pack(pady=20)\n",
    "\n",
    "style = ttk.Style()\n",
    "style.theme_use(\"default\")\n",
    "\n",
    "# Настройка макета окна\n",
    "root.grid_rowconfigure(1, weight=1)\n",
    "root.grid_columnconfigure(1, weight=1)\n",
    "\n",
    "canvas = Canvas(root, height=500, width=500)\n",
    "canvas.grid(row = 1, column = 1)\n",
    "\n",
    "# Запуск главного цикла\n",
    "root.resizable(False, False)\n",
    "root.mainloop()"
   ]
  },
  {
   "cell_type": "code",
   "execution_count": null,
   "id": "929e09b8-889a-4154-b016-375da3037265",
   "metadata": {},
   "outputs": [],
   "source": []
  },
  {
   "cell_type": "code",
   "execution_count": null,
   "id": "76f3b7b0-2179-4a3f-88a0-8140fca8d07c",
   "metadata": {},
   "outputs": [],
   "source": []
  }
 ],
 "metadata": {
  "kernelspec": {
   "display_name": "Python 3 (ipykernel)",
   "language": "python",
   "name": "python3"
  },
  "language_info": {
   "codemirror_mode": {
    "name": "ipython",
    "version": 3
   },
   "file_extension": ".py",
   "mimetype": "text/x-python",
   "name": "python",
   "nbconvert_exporter": "python",
   "pygments_lexer": "ipython3",
   "version": "3.11.4"
  }
 },
 "nbformat": 4,
 "nbformat_minor": 5
}
